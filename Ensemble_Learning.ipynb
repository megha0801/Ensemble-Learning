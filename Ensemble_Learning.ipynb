{
  "nbformat": 4,
  "nbformat_minor": 0,
  "metadata": {
    "colab": {
      "provenance": []
    },
    "kernelspec": {
      "name": "python3",
      "display_name": "Python 3"
    },
    "language_info": {
      "name": "python"
    }
  },
  "cells": [
    {
      "cell_type": "markdown",
      "source": [
        "1. Can we use Bagging for regression problems?\n",
        "\n",
        "-> Yes, we can use Bagging for regression problems."
      ],
      "metadata": {
        "id": "g5Jt6d-3yF4y"
      }
    },
    {
      "cell_type": "markdown",
      "source": [
        "2. What is the difference between multiple model training and single model training?\n",
        "\n",
        "-> ### ✅ Difference Between Multiple Model Training and Single Model Training:\n",
        "\n",
        "| Aspect               | **Single Model Training**                                    | **Multiple Model Training**                          |\n",
        "| -------------------- | ------------------------------------------------------------ | ---------------------------------------------------- |\n",
        "| **Definition**       | Train one model on the dataset                               | Train several models and combine their outputs       |\n",
        "| **Example**          | One decision tree or one linear regression model             | Bagging, Boosting, Stacking (Ensemble methods)       |\n",
        "| **Accuracy**         | Depends on the model’s capacity; may overfit or underfit     | Typically more accurate due to combining predictions |\n",
        "| **Overfitting**      | More prone to overfitting (especially high-capacity models)  | Reduces overfitting by averaging or weighting models |\n",
        "| **Complexity**       | Simpler to implement and understand                          | More complex in terms of computation and design      |\n",
        "| **Computation Time** | Faster training and prediction                               | Slower due to training multiple models               |\n",
        "| **Robustness**       | Sensitive to noise and data changes                          | More robust to variance and noise                    |\n",
        "| **Use Case**         | When the dataset is simple or the problem is well understood | When higher accuracy and generalization are needed   |\n",
        "\n"
      ],
      "metadata": {
        "id": "zpmOySAGyWph"
      }
    },
    {
      "cell_type": "markdown",
      "source": [
        "3. Explain the concept of feature randomness in Random Forest.\n",
        "\n",
        "-> Feature randomness is a key idea that helps make Random Forests more accurate and less overfitted. In Random Forest, each decision tree is trained not only on a random subset of data (bagging), but also on a random subset of features at each split.\n",
        "This is known as feature randomness or feature sampling."
      ],
      "metadata": {
        "id": "anXeuwdczmA7"
      }
    },
    {
      "cell_type": "markdown",
      "source": [
        "4. What is OOB (Out-of-Bag) Score?\n",
        "\n",
        "-> OOB (Out-of-Bag) Score is a way to estimate the performance of a Random Forest without needing a separate validation set.\n",
        "\n"
      ],
      "metadata": {
        "id": "IJc6AjOZz-gy"
      }
    },
    {
      "cell_type": "markdown",
      "source": [
        "5. How can you measure the importance of features in a Random Forest model?\n",
        "\n",
        "->\n",
        "###  How to Measure Feature Importance in a Random Forest Model:\n",
        "\n",
        "Random Forest models allow us to understand **which features (input variables)** are most important in making predictions. This is useful for feature selection and understanding the model’s behavior.\n",
        "\n",
        "---\n",
        "\n",
        "### Methods to Measure Feature Importance:\n",
        "\n",
        "#### **1. Mean Decrease in Impurity (MDI) — Also called Gini Importance**\n",
        "\n",
        "* Every time a feature is used to split a decision tree, it reduces impurity (like Gini for classification or variance for regression).\n",
        "* The total amount of impurity reduction from each feature is **summed across all trees**.\n",
        "* Features that result in **larger reductions in impurity** are considered **more important**.\n",
        "\n",
        "#### **2. Permutation Importance**\n",
        "\n",
        "* After the model is trained, each feature is **randomly shuffled** (breaking its relationship with the target).\n",
        "* The model is then re-evaluated.\n",
        "* If the model's performance **drops significantly**, that feature is considered important.\n",
        "* If performance stays the same, the feature was likely not important.\n",
        "* This method is more accurate but also slower to compute.\n",
        "\n",
        "---\n",
        "\n",
        "###  Summary:\n",
        "\n",
        "| Method                        | Description                                                         |\n",
        "| ----------------------------- | ------------------------------------------------------------------- |\n",
        "| **Mean Decrease in Impurity** | Measures how much a feature reduces impurity in the trees           |\n",
        "| **Permutation Importance**    | Measures how much model accuracy drops when the feature is shuffled |\n",
        "\n",
        "---\n",
        "\n",
        "###  Conclusion:\n",
        "\n",
        "* **Feature importance** tells us which features matter most to the model’s decision-making.\n",
        "* Random Forest offers both **built-in impurity-based importance** and **evaluation-based permutation importance**.\n",
        "* Use these to guide **feature selection** and understand your model better.\n",
        "\n",
        "\n"
      ],
      "metadata": {
        "id": "yD4TCLWW0NHX"
      }
    },
    {
      "cell_type": "markdown",
      "source": [
        "6. Explain the working principle of a Bagging Classifier.\n",
        "\n",
        "-> Bagging stands for Bootstrap Aggregating, and a Bagging Classifier is an ensemble method that improves the stability and accuracy of machine learning models by combining multiple classifiers.\n",
        "\n"
      ],
      "metadata": {
        "id": "4JUdrxvP0yty"
      }
    },
    {
      "cell_type": "markdown",
      "source": [
        "7. How do you evaluate a Bagging Classifier’s performance?\n",
        "\n",
        "-> ###  How to Evaluate a Bagging Classifier’s Performance\n",
        "\n",
        "Evaluating a **Bagging Classifier** is similar to evaluating any classification model, but with some extra options specific to ensemble methods like **Out-of-Bag (OOB) score**.\n",
        "\n",
        "---\n",
        "\n",
        "###  Key Evaluation Methods:\n",
        "\n",
        "#### **1. Accuracy Score**\n",
        "\n",
        "* Measures the percentage of correct predictions.\n",
        "* Suitable when classes are balanced.\n",
        "\n",
        "#### **2. Confusion Matrix**\n",
        "\n",
        "* Gives a full picture of performance: shows true positives, true negatives, false positives, and false negatives.\n",
        "* Helps in understanding **class-specific performance**.\n",
        "\n",
        "#### **3. Precision, Recall, F1-Score**\n",
        "\n",
        "* **Precision**: Correct positive predictions out of all predicted positives.\n",
        "* **Recall**: Correct positive predictions out of all actual positives.\n",
        "* **F1-Score**: Harmonic mean of precision and recall.\n",
        "* Useful when dealing with **imbalanced datasets**.\n",
        "\n",
        "#### **4. ROC Curve and AUC (Area Under the Curve)**\n",
        "\n",
        "* Measures the trade-off between **true positive rate** and **false positive rate**.\n",
        "* AUC closer to 1 means better performance.\n",
        "\n",
        "#### **5. Cross-Validation**\n",
        "\n",
        "* Split the dataset into multiple folds and evaluate the model on each fold.\n",
        "* Gives a more **reliable estimate** of performance on unseen data.\n",
        "\n",
        "#### **6. Out-of-Bag (OOB) Score** (Specific to Bagging)\n",
        "\n",
        "* Since each tree in a Bagging Classifier is trained on a random subset of data, some samples are left out.\n",
        "* These “out-of-bag” samples are used to test the model.\n",
        "* The **OOB score** is an internal validation score and is often a good estimate of **generalization accuracy**.\n",
        "\n",
        "---\n",
        "\n",
        "###  Summary Table:\n",
        "\n",
        "| Metric/Method         | Description                         | Useful For                                   |\n",
        "| --------------------- | ----------------------------------- | -------------------------------------------- |\n",
        "| Accuracy              | Overall correct predictions         | Balanced datasets                            |\n",
        "| Confusion Matrix      | Class-wise prediction results       | Understanding class-wise errors              |\n",
        "| Precision, Recall, F1 | Class imbalance handling            | Critical applications (e.g., medical, fraud) |\n",
        "| ROC-AUC               | Trade-off analysis                  | Binary classification                        |\n",
        "| Cross-Validation      | Robust model performance estimation | General validation                           |\n",
        "| OOB Score             | Internal validation in Bagging      | Quick estimate without test set              |\n",
        "\n",
        "---\n",
        "\n"
      ],
      "metadata": {
        "id": "xLbWiFar0_UY"
      }
    },
    {
      "cell_type": "markdown",
      "source": [
        "8. How does a Bagging Regressor work?\n",
        "\n",
        "-> A Bagging Regressor is an ensemble method that improves the stability and accuracy of regression models by combining multiple predictors (usually weak learners like decision trees) trained on different subsets of the data."
      ],
      "metadata": {
        "id": "OK7H1Czw11G4"
      }
    },
    {
      "cell_type": "markdown",
      "source": [
        "9. What is the main advantage of ensemble techniques?\n",
        "\n",
        "-> The main advantage of ensemble techniques is that they combine multiple models to produce a result that is more accurate, robust, and reliable than any individual model."
      ],
      "metadata": {
        "id": "C22ocPp22R6A"
      }
    },
    {
      "cell_type": "markdown",
      "source": [
        "10. What is the main challenge of ensemble methods?\n",
        "\n",
        "->\n",
        "While ensemble methods offer **high accuracy and robustness**, their **main challenge** is **increased complexity** — both in terms of computation and interpretation.\n",
        "\n",
        "---\n",
        "\n",
        "###  Key Challenges of Ensemble Methods:\n",
        "\n",
        "#### **1. Increased Computational Cost**\n",
        "\n",
        "* Training multiple models (sometimes hundreds or thousands) takes **more time and memory** than a single model.\n",
        "* Especially with large datasets or complex base learners, this becomes a bottleneck.\n",
        "\n",
        "#### **2. Reduced Interpretability**\n",
        "\n",
        "* Unlike a single decision tree or linear model, an ensemble (like Random Forest or Gradient Boosting) is **harder to understand** and explain.\n",
        "* It’s often called a **black box** model, which is a problem in fields like healthcare or finance where interpretability matters.\n",
        "\n",
        "#### **3. Risk of Overfitting (in some types)**\n",
        "\n",
        "* Some ensembles (e.g., Boosting) can **overfit** the training data if not properly tuned.\n",
        "* Requires careful hyperparameter tuning and validation.\n",
        "\n",
        "#### **4. Complex Implementation and Tuning**\n",
        "\n",
        "* Ensembles involve **more parameters**, multiple models, and often stacking or blending techniques.\n",
        "* They need **more expertise and experimentation** to optimize.\n",
        "\n",
        "#### **5. Slower Prediction Time**\n",
        "\n",
        "* Since predictions must come from **multiple models**, it can be **slower in real-time systems**, especially in large-scale applications.\n",
        "\n",
        "\n",
        "\n",
        "\n"
      ],
      "metadata": {
        "id": "2pG0zQ632hql"
      }
    },
    {
      "cell_type": "markdown",
      "source": [
        "11. Explain the key idea behind ensemble techniques.\n",
        "\n",
        "-> The key idea behind ensemble techniques is:\n",
        "\n",
        "\"Combine the predictions of multiple models to build a more accurate and reliable overall model.\"\n",
        "\n",
        "-> Why It Works:\n",
        "Just like asking the opinion of many people often leads to a better decision than relying on one person, combining multiple models helps balance out individual errors. Each model may be weak on its own, but together they can create a strong, robust prediction system."
      ],
      "metadata": {
        "id": "UinfJzbs3Bxs"
      }
    },
    {
      "cell_type": "markdown",
      "source": [
        "12. What is a Random Forest Classifier?\n",
        "\n",
        "-> A Random Forest Classifier is an ensemble learning algorithm used for classification tasks. It builds a “forest” of multiple decision trees, each trained on random subsets of the data and features, and combines their results to make a final prediction.\n",
        "\n"
      ],
      "metadata": {
        "id": "esjBnOJE3Ue_"
      }
    },
    {
      "cell_type": "markdown",
      "source": [
        "13. What are the main types of ensemble techniques?\n",
        "\n",
        "-> Ensemble techniques combine multiple models to produce better performance than individual models. There are three main types of ensemble methods:\n",
        "\n",
        " 1. Bagging (Bootstrap Aggregating)\n",
        " 2. Boosting\n",
        " 3. Stacking (Stacked Generalization)"
      ],
      "metadata": {
        "id": "ZcaAnymy3g2I"
      }
    },
    {
      "cell_type": "markdown",
      "source": [
        "14. What is ensemble learning in machine learning?\n",
        "\n",
        "-> Ensemble learning is a machine learning technique where multiple models (called base learners or weak learners) are combined to solve a problem and improve overall performance.\n",
        "\n"
      ],
      "metadata": {
        "id": "Gdbf6oh-37EM"
      }
    },
    {
      "cell_type": "markdown",
      "source": [
        "15. When should we avoid using ensemble methods?\n",
        "\n",
        "-> ### ⚠️ When Should We **Avoid** Using Ensemble Methods?\n",
        "\n",
        "While ensemble methods are powerful, they are **not always the best choice**. Here are situations where you should **avoid using them**:\n",
        "\n",
        "---\n",
        "\n",
        "### 🔹 1. **When Model Interpretability is Critical**\n",
        "\n",
        "* Ensemble models (like Random Forest, XGBoost) are often **black boxes**.\n",
        "* If you need to **explain model decisions** to stakeholders (e.g., in healthcare, law, or finance), simpler models like **logistic regression** or **decision trees** are better.\n",
        "\n",
        "---\n",
        "\n",
        "### 🔹 2. **When You Have a Small Dataset**\n",
        "\n",
        "* Ensembles need **enough data** to train multiple models effectively.\n",
        "* On small datasets, they may:\n",
        "\n",
        "  * **Overfit** the data\n",
        "  * **Not provide significant gains** over a well-tuned simple model\n",
        "\n",
        "---\n",
        "\n",
        "### 🔹 3. **Limited Computational Resources**\n",
        "\n",
        "* Training and using ensemble models is **resource-intensive** (memory, time, CPU).\n",
        "* On **low-power devices** or time-sensitive tasks, they can be impractical.\n",
        "\n",
        "---\n",
        "\n",
        "### 🔹 4. **When a Simple Model Already Performs Well**\n",
        "\n",
        "* If a basic model gives **good accuracy**, adding complexity with ensembles may be unnecessary.\n",
        "* Occam's Razor: Prefer simpler solutions unless the complex one shows clear improvement.\n",
        "\n",
        "---\n",
        "\n",
        "### 🔹 5. **When Real-Time Predictions Are Needed**\n",
        "\n",
        "* Ensemble models (especially large ones) have **slower prediction times**.\n",
        "* In real-time applications (e.g., fraud detection, live recommendations), latency matters.\n",
        "\n"
      ],
      "metadata": {
        "id": "8zv8xUfp4JQ-"
      }
    },
    {
      "cell_type": "markdown",
      "source": [
        "16. How does Bagging help in reducing overfitting?\n",
        "\n",
        "->\n",
        "\n",
        "**Bagging** (Bootstrap Aggregating) helps reduce **overfitting** by decreasing the **variance** of predictive models — especially those prone to overfitting, like decision trees.\n",
        "\n",
        "---\n",
        "\n",
        "###  Here's How It Works:\n",
        "\n",
        "#### 1. **Creates Diverse Models Using Bootstrap Samples**\n",
        "\n",
        "* Bagging trains multiple models on **random subsets** of the training data (with replacement).\n",
        "* Each model sees **different data**, leading to slightly different patterns being learned.\n",
        "\n",
        "#### 2. **Reduces Sensitivity to Noise**\n",
        "\n",
        "* A single decision tree may overfit to noise or outliers in the data.\n",
        "* But with bagging, such noise affects only **some models**, not all — reducing its overall impact.\n",
        "\n",
        "#### 3. **Averaging Reduces Variance**\n",
        "\n",
        "* For regression: final prediction is the **average** of all models.\n",
        "* For classification: final prediction is based on **majority vote**.\n",
        "* This averaging **smooths out extreme predictions**, making the final model more **stable and generalizable**.\n",
        "\n"
      ],
      "metadata": {
        "id": "_TpzxVXd4j7M"
      }
    },
    {
      "cell_type": "markdown",
      "source": [
        "17. Why is Random Forest better than a single Decision Tree?\n",
        "\n",
        "-> A Random Forest improves upon a single Decision Tree by addressing its main weakness — overfitting — and boosting overall accuracy, stability, and generalization."
      ],
      "metadata": {
        "id": "T_1lJOBg46-U"
      }
    },
    {
      "cell_type": "markdown",
      "source": [
        "18. What is the role of bootstrap sampling in Bagging?\n",
        "\n",
        "-> Bootstrap sampling is the core technique behind Bagging (Bootstrap Aggregating). It allows Bagging to create diverse training datasets from the original dataset, which helps build different models and improve overall performance."
      ],
      "metadata": {
        "id": "gigrs7sR5K6m"
      }
    },
    {
      "cell_type": "markdown",
      "source": [
        "19. What are some real-world applications of ensemble techniques?\n",
        "\n",
        "-> ###  Real-World Applications of Ensemble Techniques\n",
        "\n",
        "Ensemble methods are widely used across industries because they provide **high accuracy**, **robustness**, and **better generalization**. Here are some key real-world applications:\n",
        "\n",
        "---\n",
        "\n",
        "###  1. **Finance & Banking**\n",
        "\n",
        "* **Credit scoring**: Predict whether a borrower is likely to repay a loan (e.g., using Random Forest or XGBoost).\n",
        "* **Fraud detection**: Identify unusual patterns in transactions using ensemble models to spot fraud early.\n",
        "\n",
        "---\n",
        "\n",
        "###  2. **Healthcare**\n",
        "\n",
        "* **Disease diagnosis**: Classify medical images (e.g., X-rays, MRIs) using ensembles of deep learning models.\n",
        "* **Risk prediction**: Predict likelihood of readmission, heart attacks, or treatment outcomes.\n",
        "\n",
        "---\n",
        "\n",
        "###  3. **E-Commerce & Retail**\n",
        "\n",
        "* **Recommendation systems**: Combine collaborative filtering, content-based models, and decision trees to improve product recommendations.\n",
        "* **Customer churn prediction**: Use ensemble models to identify users likely to leave a service or platform.\n",
        "\n",
        "---\n",
        "\n",
        "###  4. **Transportation & Autonomous Vehicles**\n",
        "\n",
        "* **Self-driving cars**: Use ensemble models to combine signals from cameras, LiDAR, and radar to improve decision-making.\n",
        "* **Traffic prediction**: Predict congestion or optimize routes based on ensemble learning from historical data.\n",
        "\n",
        "---\n",
        "\n",
        "###  5. **Computer Vision**\n",
        "\n",
        "* **Face recognition**, **object detection**, and **image classification** often use ensemble CNNs to boost accuracy in complex environments.\n",
        "\n",
        "---\n",
        "\n",
        "###  6. **Natural Language Processing**\n",
        "\n",
        "* **Sentiment analysis**, **spam detection**, and **chatbots** use ensembles of models (like Naive Bayes + LSTM + BERT) for more reliable results.\n",
        "\n",
        "---\n",
        "\n",
        "###  7. **Education**\n",
        "\n",
        "* **Student performance prediction**: Predict exam outcomes or dropout risk using Random Forests or Gradient Boosted Trees.\n",
        "\n",
        "---\n",
        "\n",
        "###  8. **Remote Sensing & Agriculture**\n",
        "\n",
        "* **Crop yield prediction**, **land cover classification**, and **weather forecasting** benefit from ensemble approaches that fuse multiple sensor data sources.\n",
        "\n"
      ],
      "metadata": {
        "id": "cSyPLC6k5aHL"
      }
    },
    {
      "cell_type": "markdown",
      "source": [
        "20. What is the difference between Bagging and Boosting?\n",
        "\n",
        "-> ###  Difference Between **Bagging** and **Boosting**\n",
        "\n",
        "Bagging and Boosting are both **ensemble learning techniques**, but they differ in **how they build models** and **how they handle errors**.\n",
        "\n",
        "---\n",
        "\n",
        "###  Key Differences:\n",
        "\n",
        "| Aspect               | **Bagging**                                          | **Boosting**                                  |\n",
        "| -------------------- | ---------------------------------------------------- | --------------------------------------------- |\n",
        "| **Full Name**        | Bootstrap Aggregating                                | Sequential Boosting                           |\n",
        "| **Model Training**   | Models are trained **in parallel**                   | Models are trained **sequentially**           |\n",
        "| **Data Sampling**    | Uses **random subsets** (with replacement)           | Each new model focuses on **previous errors** |\n",
        "| **Model Focus**      | All models are treated **equally**                   | Later models are **weighted more**            |\n",
        "| **Error Handling**   | Reduces **variance**                                 | Reduces **bias** and **variance**             |\n",
        "| **Overfitting Risk** | Lower risk of overfitting                            | Higher risk (especially if too many models)   |\n",
        "| **Combining Output** | Average (regression), Majority vote (classification) | Weighted sum or vote                          |\n",
        "| **Examples**         | Random Forest                                        | AdaBoost, Gradient Boosting, XGBoost          |\n",
        "\n"
      ],
      "metadata": {
        "id": "uki2rh2T5_L0"
      }
    },
    {
      "cell_type": "markdown",
      "source": [
        "21. Train a Bagging Classifier using Decision Trees on a sample dataset and print model accuracy."
      ],
      "metadata": {
        "id": "MYp5gQUt6cOz"
      }
    },
    {
      "cell_type": "code",
      "source": [
        "\n",
        "from sklearn.ensemble import BaggingClassifier\n",
        "from sklearn.tree import DecisionTreeClassifier\n",
        "from sklearn.datasets import load_iris\n",
        "from sklearn.model_selection import train_test_split\n",
        "from sklearn.metrics import accuracy_score\n",
        "\n",
        "iris = load_iris()\n",
        "X, y = iris.data, iris.target\n",
        "\n",
        "X_train, X_test, y_train, y_test = train_test_split(X, y, test_size=0.3, random_state=42)\n",
        "\n",
        "model = BaggingClassifier(estimator=DecisionTreeClassifier(), n_estimators=10, random_state=42)\n",
        "\n",
        "model.fit(X_train, y_train)\n",
        "\n",
        "y_pred = model.predict(X_test)\n",
        "\n",
        "accuracy = accuracy_score(y_test, y_pred)\n",
        "print(\"Model Accuracy:\", accuracy)"
      ],
      "metadata": {
        "colab": {
          "base_uri": "https://localhost:8080/"
        },
        "id": "FJ43_1uc6vX5",
        "outputId": "845d08f7-4fd4-44d2-9318-b3381e20e9f1"
      },
      "execution_count": 5,
      "outputs": [
        {
          "output_type": "stream",
          "name": "stdout",
          "text": [
            "Model Accuracy: 1.0\n"
          ]
        }
      ]
    },
    {
      "cell_type": "markdown",
      "source": [
        "22. Train a Bagging Regressor using Decision Trees and evaluate using Mean Squared Error (MSE)."
      ],
      "metadata": {
        "id": "h7aHL9MH7ayb"
      }
    },
    {
      "cell_type": "code",
      "source": [
        "\n",
        "from sklearn.ensemble import BaggingRegressor\n",
        "from sklearn.tree import DecisionTreeRegressor\n",
        "from sklearn.datasets import load_diabetes\n",
        "from sklearn.model_selection import train_test_split\n",
        "from sklearn.metrics import mean_squared_error\n",
        "\n",
        "data = load_diabetes()\n",
        "X, y = data.data, data.target\n",
        "\n",
        "\n",
        "X_train, X_test, y_train, y_test = train_test_split(X, y, test_size=0.3, random_state=42)\n",
        "\n",
        "\n",
        "regressor = BaggingRegressor(estimator=DecisionTreeRegressor(), n_estimators=10, random_state=42)\n",
        "\n",
        "regressor.fit(X_train, y_train)\n",
        "\n",
        "y_pred = regressor.predict(X_test)\n",
        "\n",
        "mse = mean_squared_error(y_test, y_pred)\n",
        "print(\"Mean Squared Error (MSE):\", mse)"
      ],
      "metadata": {
        "colab": {
          "base_uri": "https://localhost:8080/"
        },
        "id": "TiL9q7vk6-wo",
        "outputId": "37a27736-03cf-42b2-aaca-05af6ec0c052"
      },
      "execution_count": 8,
      "outputs": [
        {
          "output_type": "stream",
          "name": "stdout",
          "text": [
            "Mean Squared Error (MSE): 3237.526541353384\n"
          ]
        }
      ]
    },
    {
      "cell_type": "markdown",
      "source": [
        "23. Train a Random Forest Classifier on the Breast Cancer dataset and print feature importance scores."
      ],
      "metadata": {
        "id": "wHWyoGki77Or"
      }
    },
    {
      "cell_type": "code",
      "source": [],
      "metadata": {
        "id": "RzEDS1LE8S4-"
      },
      "execution_count": null,
      "outputs": []
    },
    {
      "cell_type": "code",
      "source": [
        "\n",
        "from sklearn.datasets import load_breast_cancer\n",
        "from sklearn.ensemble import RandomForestClassifier\n",
        "from sklearn.model_selection import train_test_split\n",
        "import pandas as pd\n",
        "\n",
        "data = load_breast_cancer()\n",
        "X, y = data.data, data.target\n",
        "feature_names = data.feature_names\n",
        "\n",
        "X_train, X_test, y_train, y_test = train_test_split(X, y, test_size=0.3, random_state=42)\n",
        "\n",
        "\n",
        "model = RandomForestClassifier(n_estimators=100, random_state=42)\n",
        "model.fit(X_train, y_train)\n",
        "\n",
        "importances = model.feature_importances_\n",
        "\n",
        "importance_df = pd.DataFrame({\n",
        "    'Feature': feature_names,\n",
        "    'Importance Score': importances\n",
        "}).sort_values(by='Importance Score', ascending=False)\n",
        "\n",
        "print(importance_df)\n"
      ],
      "metadata": {
        "colab": {
          "base_uri": "https://localhost:8080/"
        },
        "id": "balpzABu7rdc",
        "outputId": "20eec9f1-7fa5-40e0-8511-dfa347f0d868"
      },
      "execution_count": 10,
      "outputs": [
        {
          "output_type": "stream",
          "name": "stdout",
          "text": [
            "                    Feature  Importance Score\n",
            "7       mean concave points          0.141934\n",
            "27     worst concave points          0.127136\n",
            "23               worst area          0.118217\n",
            "6            mean concavity          0.080557\n",
            "20             worst radius          0.077975\n",
            "22          worst perimeter          0.074292\n",
            "2            mean perimeter          0.060092\n",
            "3                 mean area          0.053810\n",
            "26          worst concavity          0.041080\n",
            "0               mean radius          0.032312\n",
            "13               area error          0.029538\n",
            "21            worst texture          0.018786\n",
            "25        worst compactness          0.017539\n",
            "10             radius error          0.016435\n",
            "28           worst symmetry          0.012929\n",
            "12          perimeter error          0.011770\n",
            "24         worst smoothness          0.011769\n",
            "1              mean texture          0.011064\n",
            "5          mean compactness          0.009216\n",
            "19  fractal dimension error          0.007135\n",
            "29  worst fractal dimension          0.006924\n",
            "4           mean smoothness          0.006223\n",
            "14         smoothness error          0.005881\n",
            "16          concavity error          0.005816\n",
            "15        compactness error          0.004596\n",
            "18           symmetry error          0.004001\n",
            "17     concave points error          0.003382\n",
            "8             mean symmetry          0.003278\n",
            "11            texture error          0.003172\n",
            "9    mean fractal dimension          0.003140\n"
          ]
        }
      ]
    },
    {
      "cell_type": "markdown",
      "source": [
        "24. Train a Random Forest Regressor and compare its performance with a single Decision Tree.\n",
        "\n",
        "->"
      ],
      "metadata": {
        "id": "UCqoOiVP8ZH6"
      }
    },
    {
      "cell_type": "code",
      "source": [
        "\n",
        "from sklearn.datasets import load_diabetes\n",
        "from sklearn.model_selection import train_test_split\n",
        "from sklearn.tree import DecisionTreeRegressor\n",
        "from sklearn.ensemble import RandomForestRegressor\n",
        "from sklearn.metrics import mean_squared_error\n",
        "\n",
        "data = load_diabetes()\n",
        "X, y = data.data, data.target\n",
        "\n",
        "X_train, X_test, y_train, y_test = train_test_split(X, y, test_size=0.3, random_state=42)\n",
        "\n",
        "dt_model = DecisionTreeRegressor(random_state=42)\n",
        "dt_model.fit(X_train, y_train)\n",
        "dt_preds = dt_model.predict(X_test)\n",
        "\n",
        "rf_model = RandomForestRegressor(n_estimators=100, random_state=42)\n",
        "rf_model.fit(X_train, y_train)\n",
        "rf_preds = rf_model.predict(X_test)\n",
        "\n",
        "dt_mse = mean_squared_error(y_test, dt_preds)\n",
        "rf_mse = mean_squared_error(y_test, rf_preds)\n",
        "\n",
        "print(\"Decision Tree Regressor MSE:\", dt_mse)\n",
        "print(\"Random Forest Regressor MSE:\", rf_mse)\n"
      ],
      "metadata": {
        "colab": {
          "base_uri": "https://localhost:8080/"
        },
        "id": "eUtioVlU8LGZ",
        "outputId": "8368afe8-0e8c-4162-8a94-4a4174b3ba18"
      },
      "execution_count": 12,
      "outputs": [
        {
          "output_type": "stream",
          "name": "stdout",
          "text": [
            "Decision Tree Regressor MSE: 5697.789473684211\n",
            "Random Forest Regressor MSE: 2859.641982706767\n"
          ]
        }
      ]
    },
    {
      "cell_type": "markdown",
      "source": [
        "25. Compute the Out-of-Bag (OOB) Score for a Random Forest Classifier."
      ],
      "metadata": {
        "id": "LMvuby8v_3Y2"
      }
    },
    {
      "cell_type": "code",
      "source": [
        "# Step 1: Import necessary libraries\n",
        "from sklearn.ensemble import RandomForestClassifier\n",
        "from sklearn.datasets import load_breast_cancer\n",
        "from sklearn.model_selection import train_test_split\n",
        "\n",
        "# Step 2: Load dataset\n",
        "data = load_breast_cancer()\n",
        "X, y = data.data, data.target\n",
        "\n",
        "# Step 3: Train the Random Forest with OOB score enabled\n",
        "model = RandomForestClassifier(n_estimators=100, oob_score=True, bootstrap=True, random_state=42)\n",
        "model.fit(X, y)\n",
        "\n",
        "# Step 4: Print the OOB Score\n",
        "print(\"Out-of-Bag (OOB) Score:\", model.oob_score_)\n"
      ],
      "metadata": {
        "colab": {
          "base_uri": "https://localhost:8080/"
        },
        "id": "PGQElWli8o0O",
        "outputId": "1be0d6fc-1714-4dcb-fa2d-a8a4ea782f4a"
      },
      "execution_count": 13,
      "outputs": [
        {
          "output_type": "stream",
          "name": "stdout",
          "text": [
            "Out-of-Bag (OOB) Score: 0.961335676625659\n"
          ]
        }
      ]
    },
    {
      "cell_type": "markdown",
      "source": [
        "26. Train a Bagging Classifier using SVM as a base estimator and print accuracy."
      ],
      "metadata": {
        "id": "NZsNgXUs_9PK"
      }
    },
    {
      "cell_type": "code",
      "source": [
        "\n",
        "from sklearn.ensemble import BaggingClassifier\n",
        "from sklearn.svm import SVC\n",
        "from sklearn.datasets import load_iris\n",
        "from sklearn.model_selection import train_test_split\n",
        "from sklearn.metrics import accuracy_score\n",
        "\n",
        "X, y = load_iris(return_X_y=True)\n",
        "\n",
        "X_train, X_test, y_train, y_test = train_test_split(X, y, test_size=0.3, random_state=42)\n",
        "\n",
        "model = BaggingClassifier(estimator=SVC(), n_estimators=10, random_state=42)\n",
        "\n",
        "model.fit(X_train, y_train)\n",
        "\n",
        "y_pred = model.predict(X_test)\n",
        "accuracy = accuracy_score(y_test, y_pred)\n",
        "\n",
        "print(\"Bagging Classifier (SVM) Accuracy:\", accuracy)"
      ],
      "metadata": {
        "colab": {
          "base_uri": "https://localhost:8080/"
        },
        "id": "iDnRuUMx_n0f",
        "outputId": "43def046-8ed9-476e-8179-dba29da5df53"
      },
      "execution_count": 16,
      "outputs": [
        {
          "output_type": "stream",
          "name": "stdout",
          "text": [
            "Bagging Classifier (SVM) Accuracy: 1.0\n"
          ]
        }
      ]
    },
    {
      "cell_type": "markdown",
      "source": [
        "27. Train a Random Forest Classifier with different numbers of trees and compare accuracy."
      ],
      "metadata": {
        "id": "Tw9ttPb9AhJN"
      }
    },
    {
      "cell_type": "code",
      "source": [
        "\n",
        "from sklearn.ensemble import RandomForestClassifier\n",
        "from sklearn.datasets import load_iris\n",
        "from sklearn.model_selection import train_test_split\n",
        "from sklearn.metrics import accuracy_score\n",
        "\n",
        "X, y = load_iris(return_X_y=True)\n",
        "X_train, X_test, y_train, y_test = train_test_split(X, y, test_size=0.3, random_state=42)\n",
        "\n",
        "n_estimators_list = [1, 5, 10, 50, 100, 200]\n",
        "print(\"Number of Trees | Accuracy\")\n",
        "print(\"----------------|---------\")\n",
        "\n",
        "for n in n_estimators_list:\n",
        "    model = RandomForestClassifier(n_estimators=n, random_state=42)\n",
        "    model.fit(X_train, y_train)\n",
        "    y_pred = model.predict(X_test)\n",
        "    acc = accuracy_score(y_test, y_pred)\n",
        "    print(f\"{n:<16} | {acc:.4f}\")\n"
      ],
      "metadata": {
        "colab": {
          "base_uri": "https://localhost:8080/"
        },
        "id": "9X5-eBEcARwZ",
        "outputId": "84f95fb3-31ec-4e13-dad8-aceed068b18b"
      },
      "execution_count": 17,
      "outputs": [
        {
          "output_type": "stream",
          "name": "stdout",
          "text": [
            "Number of Trees | Accuracy\n",
            "----------------|---------\n",
            "1                | 1.0000\n",
            "5                | 1.0000\n",
            "10               | 1.0000\n",
            "50               | 1.0000\n",
            "100              | 1.0000\n",
            "200              | 1.0000\n"
          ]
        }
      ]
    },
    {
      "cell_type": "markdown",
      "source": [
        "28. Train a Bagging Classifier using Logistic Regression as a base estimator and print AUC score."
      ],
      "metadata": {
        "id": "2lGZl93_BA74"
      }
    },
    {
      "cell_type": "code",
      "source": [
        "\n",
        "from sklearn.ensemble import BaggingClassifier\n",
        "from sklearn.linear_model import LogisticRegression\n",
        "from sklearn.datasets import load_breast_cancer\n",
        "from sklearn.model_selection import train_test_split\n",
        "from sklearn.metrics import roc_auc_score\n",
        "\n",
        "data = load_breast_cancer()\n",
        "X, y = data.data, data.target\n",
        "\n",
        "X_train, X_test, y_train, y_test = train_test_split(X, y, test_size=0.3, random_state=42)\n",
        "\n",
        "\n",
        "model = BaggingClassifier(estimator=LogisticRegression(max_iter=1000), n_estimators=10, random_state=42)\n",
        "\n",
        "model.fit(X_train, y_train)\n",
        "\n",
        "y_proba = model.predict_proba(X_test)[:, 1]\n",
        "\n",
        "auc_score = roc_auc_score(y_test, y_proba)\n",
        "print(\"AUC Score (Bagging + Logistic Regression):\", auc_score)"
      ],
      "metadata": {
        "colab": {
          "base_uri": "https://localhost:8080/"
        },
        "id": "7vh7Pj-_AxUy",
        "outputId": "e0ef7d8f-f82d-4910-f335-8b0a75051d2d"
      },
      "execution_count": 20,
      "outputs": [
        {
          "output_type": "stream",
          "name": "stderr",
          "text": [
            "/usr/local/lib/python3.11/dist-packages/sklearn/linear_model/_logistic.py:465: ConvergenceWarning: lbfgs failed to converge (status=1):\n",
            "STOP: TOTAL NO. OF ITERATIONS REACHED LIMIT.\n",
            "\n",
            "Increase the number of iterations (max_iter) or scale the data as shown in:\n",
            "    https://scikit-learn.org/stable/modules/preprocessing.html\n",
            "Please also refer to the documentation for alternative solver options:\n",
            "    https://scikit-learn.org/stable/modules/linear_model.html#logistic-regression\n",
            "  n_iter_i = _check_optimize_result(\n",
            "/usr/local/lib/python3.11/dist-packages/sklearn/linear_model/_logistic.py:465: ConvergenceWarning: lbfgs failed to converge (status=1):\n",
            "STOP: TOTAL NO. OF ITERATIONS REACHED LIMIT.\n",
            "\n",
            "Increase the number of iterations (max_iter) or scale the data as shown in:\n",
            "    https://scikit-learn.org/stable/modules/preprocessing.html\n",
            "Please also refer to the documentation for alternative solver options:\n",
            "    https://scikit-learn.org/stable/modules/linear_model.html#logistic-regression\n",
            "  n_iter_i = _check_optimize_result(\n",
            "/usr/local/lib/python3.11/dist-packages/sklearn/linear_model/_logistic.py:465: ConvergenceWarning: lbfgs failed to converge (status=1):\n",
            "STOP: TOTAL NO. OF ITERATIONS REACHED LIMIT.\n",
            "\n",
            "Increase the number of iterations (max_iter) or scale the data as shown in:\n",
            "    https://scikit-learn.org/stable/modules/preprocessing.html\n",
            "Please also refer to the documentation for alternative solver options:\n",
            "    https://scikit-learn.org/stable/modules/linear_model.html#logistic-regression\n",
            "  n_iter_i = _check_optimize_result(\n",
            "/usr/local/lib/python3.11/dist-packages/sklearn/linear_model/_logistic.py:465: ConvergenceWarning: lbfgs failed to converge (status=1):\n",
            "STOP: TOTAL NO. OF ITERATIONS REACHED LIMIT.\n",
            "\n",
            "Increase the number of iterations (max_iter) or scale the data as shown in:\n",
            "    https://scikit-learn.org/stable/modules/preprocessing.html\n",
            "Please also refer to the documentation for alternative solver options:\n",
            "    https://scikit-learn.org/stable/modules/linear_model.html#logistic-regression\n",
            "  n_iter_i = _check_optimize_result(\n",
            "/usr/local/lib/python3.11/dist-packages/sklearn/linear_model/_logistic.py:465: ConvergenceWarning: lbfgs failed to converge (status=1):\n",
            "STOP: TOTAL NO. OF ITERATIONS REACHED LIMIT.\n",
            "\n",
            "Increase the number of iterations (max_iter) or scale the data as shown in:\n",
            "    https://scikit-learn.org/stable/modules/preprocessing.html\n",
            "Please also refer to the documentation for alternative solver options:\n",
            "    https://scikit-learn.org/stable/modules/linear_model.html#logistic-regression\n",
            "  n_iter_i = _check_optimize_result(\n",
            "/usr/local/lib/python3.11/dist-packages/sklearn/linear_model/_logistic.py:465: ConvergenceWarning: lbfgs failed to converge (status=1):\n",
            "STOP: TOTAL NO. OF ITERATIONS REACHED LIMIT.\n",
            "\n",
            "Increase the number of iterations (max_iter) or scale the data as shown in:\n",
            "    https://scikit-learn.org/stable/modules/preprocessing.html\n",
            "Please also refer to the documentation for alternative solver options:\n",
            "    https://scikit-learn.org/stable/modules/linear_model.html#logistic-regression\n",
            "  n_iter_i = _check_optimize_result(\n",
            "/usr/local/lib/python3.11/dist-packages/sklearn/linear_model/_logistic.py:465: ConvergenceWarning: lbfgs failed to converge (status=1):\n",
            "STOP: TOTAL NO. OF ITERATIONS REACHED LIMIT.\n",
            "\n",
            "Increase the number of iterations (max_iter) or scale the data as shown in:\n",
            "    https://scikit-learn.org/stable/modules/preprocessing.html\n",
            "Please also refer to the documentation for alternative solver options:\n",
            "    https://scikit-learn.org/stable/modules/linear_model.html#logistic-regression\n",
            "  n_iter_i = _check_optimize_result(\n",
            "/usr/local/lib/python3.11/dist-packages/sklearn/linear_model/_logistic.py:465: ConvergenceWarning: lbfgs failed to converge (status=1):\n",
            "STOP: TOTAL NO. OF ITERATIONS REACHED LIMIT.\n",
            "\n",
            "Increase the number of iterations (max_iter) or scale the data as shown in:\n",
            "    https://scikit-learn.org/stable/modules/preprocessing.html\n",
            "Please also refer to the documentation for alternative solver options:\n",
            "    https://scikit-learn.org/stable/modules/linear_model.html#logistic-regression\n",
            "  n_iter_i = _check_optimize_result(\n",
            "/usr/local/lib/python3.11/dist-packages/sklearn/linear_model/_logistic.py:465: ConvergenceWarning: lbfgs failed to converge (status=1):\n",
            "STOP: TOTAL NO. OF ITERATIONS REACHED LIMIT.\n",
            "\n",
            "Increase the number of iterations (max_iter) or scale the data as shown in:\n",
            "    https://scikit-learn.org/stable/modules/preprocessing.html\n",
            "Please also refer to the documentation for alternative solver options:\n",
            "    https://scikit-learn.org/stable/modules/linear_model.html#logistic-regression\n",
            "  n_iter_i = _check_optimize_result(\n"
          ]
        },
        {
          "output_type": "stream",
          "name": "stdout",
          "text": [
            "AUC Score (Bagging + Logistic Regression): 0.9977954144620812\n"
          ]
        },
        {
          "output_type": "stream",
          "name": "stderr",
          "text": [
            "/usr/local/lib/python3.11/dist-packages/sklearn/linear_model/_logistic.py:465: ConvergenceWarning: lbfgs failed to converge (status=1):\n",
            "STOP: TOTAL NO. OF ITERATIONS REACHED LIMIT.\n",
            "\n",
            "Increase the number of iterations (max_iter) or scale the data as shown in:\n",
            "    https://scikit-learn.org/stable/modules/preprocessing.html\n",
            "Please also refer to the documentation for alternative solver options:\n",
            "    https://scikit-learn.org/stable/modules/linear_model.html#logistic-regression\n",
            "  n_iter_i = _check_optimize_result(\n"
          ]
        }
      ]
    },
    {
      "cell_type": "markdown",
      "source": [
        "29. Train a Random Forest Regressor and analyze feature importance scores."
      ],
      "metadata": {
        "id": "AX4X5gNvBp_6"
      }
    },
    {
      "cell_type": "code",
      "source": [
        "\n",
        "from sklearn.ensemble import RandomForestRegressor\n",
        "from sklearn.datasets import load_diabetes\n",
        "from sklearn.model_selection import train_test_split\n",
        "import pandas as pd\n",
        "\n",
        "data = load_diabetes()\n",
        "X, y = data.data, data.target\n",
        "feature_names = data.feature_names\n",
        "\n",
        "X_train, X_test, y_train, y_test = train_test_split(X, y, test_size=0.3, random_state=42)\n",
        "\n",
        "model = RandomForestRegressor(n_estimators=100, random_state=42)\n",
        "model.fit(X_train, y_train)\n",
        "\n",
        "importances = model.feature_importances_\n",
        "\n",
        "importance_df = pd.DataFrame({\n",
        "    'Feature': feature_names,\n",
        "    'Importance Score': importances\n",
        "}).sort_values(by='Importance Score', ascending=False)\n",
        "\n",
        "print(\"Feature Importance Scores:\")\n",
        "print(importance_df)\n"
      ],
      "metadata": {
        "colab": {
          "base_uri": "https://localhost:8080/"
        },
        "id": "htpmdFPGBRun",
        "outputId": "467e659c-ef52-408e-82bc-6a10f33f499b"
      },
      "execution_count": 21,
      "outputs": [
        {
          "output_type": "stream",
          "name": "stdout",
          "text": [
            "Feature Importance Scores:\n",
            "  Feature  Importance Score\n",
            "2     bmi          0.400000\n",
            "8      s5          0.166602\n",
            "3      bp          0.104839\n",
            "9      s6          0.071358\n",
            "6      s3          0.061730\n",
            "0     age          0.058633\n",
            "4      s1          0.049191\n",
            "5      s2          0.047138\n",
            "7      s4          0.029427\n",
            "1     sex          0.011082\n"
          ]
        }
      ]
    },
    {
      "cell_type": "markdown",
      "source": [
        "30. Train an ensemble model using both Bagging and Random Forest and compare accuracy."
      ],
      "metadata": {
        "id": "-qVSc8mpCE3I"
      }
    },
    {
      "cell_type": "code",
      "source": [
        "\n",
        "from sklearn.ensemble import BaggingClassifier, RandomForestClassifier\n",
        "from sklearn.tree import DecisionTreeClassifier\n",
        "from sklearn.datasets import load_breast_cancer\n",
        "from sklearn.model_selection import train_test_split\n",
        "from sklearn.metrics import accuracy_score\n",
        "\n",
        "data = load_breast_cancer()\n",
        "X, y = data.data, data.target\n",
        "\n",
        "X_train, X_test, y_train, y_test = train_test_split(X, y, test_size=0.3, random_state=42)\n",
        "\n",
        "bagging_model = BaggingClassifier(\n",
        "    estimator=DecisionTreeClassifier(),\n",
        "    n_estimators=100,\n",
        "    random_state=42\n",
        ")\n",
        "bagging_model.fit(X_train, y_train)\n",
        "bagging_preds = bagging_model.predict(X_test)\n",
        "bagging_acc = accuracy_score(y_test, bagging_preds)\n",
        "\n",
        "rf_model = RandomForestClassifier(n_estimators=100, random_state=42)\n",
        "rf_model.fit(X_train, y_train)\n",
        "rf_preds = rf_model.predict(X_test)\n",
        "rf_acc = accuracy_score(y_test, rf_preds)\n",
        "\n",
        "print(\"Bagging Classifier Accuracy:\", bagging_acc)\n",
        "print(\"Random Forest Classifier Accuracy:\", rf_acc)"
      ],
      "metadata": {
        "colab": {
          "base_uri": "https://localhost:8080/"
        },
        "id": "Nj3vQIXnB4bR",
        "outputId": "4b37f8b1-e24d-450d-847b-40cd8c98c145"
      },
      "execution_count": 24,
      "outputs": [
        {
          "output_type": "stream",
          "name": "stdout",
          "text": [
            "Bagging Classifier Accuracy: 0.9590643274853801\n",
            "Random Forest Classifier Accuracy: 0.9707602339181286\n"
          ]
        }
      ]
    },
    {
      "cell_type": "markdown",
      "source": [
        "31. Train a Random Forest Classifier and tune hyperparameters using GridSearchCV."
      ],
      "metadata": {
        "id": "epR_AlEfC57D"
      }
    },
    {
      "cell_type": "code",
      "source": [
        "\n",
        "from sklearn.ensemble import RandomForestClassifier\n",
        "from sklearn.model_selection import GridSearchCV, train_test_split\n",
        "from sklearn.datasets import load_breast_cancer\n",
        "from sklearn.metrics import accuracy_score\n",
        "import warnings\n",
        "warnings.filterwarnings(\"ignore\")\n",
        "\n",
        "data = load_breast_cancer()\n",
        "X, y = data.data, data.target\n",
        "\n",
        "X_train, X_test, y_train, y_test = train_test_split(X, y, test_size=0.3, random_state=42)\n",
        "\n",
        "param_grid = {\n",
        "    'n_estimators': [50, 100, 150],\n",
        "    'max_depth': [None, 5, 10],\n",
        "    'min_samples_split': [2, 5],\n",
        "    'min_samples_leaf': [1, 2],\n",
        "    'bootstrap': [True, False]\n",
        "}\n",
        "\n",
        "\n",
        "rf = RandomForestClassifier(random_state=42)\n",
        "grid_search = GridSearchCV(estimator=rf, param_grid=param_grid,\n",
        "                           cv=5, n_jobs=-1, verbose=1)\n",
        "\n",
        "grid_search.fit(X_train, y_train)\n",
        "\n",
        "best_rf = grid_search.best_estimator_\n",
        "y_pred = best_rf.predict(X_test)\n",
        "accuracy = accuracy_score(y_test, y_pred)\n",
        "\n",
        "print(\"Best Parameters:\", grid_search.best_params_)\n",
        "print(\"Test Set Accuracy with Best Parameters:\", accuracy)\n"
      ],
      "metadata": {
        "colab": {
          "base_uri": "https://localhost:8080/"
        },
        "id": "XiushlF7Clk8",
        "outputId": "d327e7ef-e8e2-493a-925b-cef3e4946050"
      },
      "execution_count": 25,
      "outputs": [
        {
          "output_type": "stream",
          "name": "stdout",
          "text": [
            "Fitting 5 folds for each of 72 candidates, totalling 360 fits\n",
            "Best Parameters: {'bootstrap': False, 'max_depth': 5, 'min_samples_leaf': 2, 'min_samples_split': 2, 'n_estimators': 150}\n",
            "Test Set Accuracy with Best Parameters: 0.9766081871345029\n"
          ]
        }
      ]
    },
    {
      "cell_type": "markdown",
      "source": [
        "32. Train a Bagging Regressor with different numbers of base estimators and compare performance."
      ],
      "metadata": {
        "id": "sO9TU4C1Du3a"
      }
    },
    {
      "cell_type": "code",
      "source": [
        "\n",
        "from sklearn.ensemble import BaggingRegressor\n",
        "from sklearn.tree import DecisionTreeRegressor\n",
        "from sklearn.datasets import load_diabetes\n",
        "from sklearn.model_selection import train_test_split\n",
        "from sklearn.metrics import mean_squared_error\n",
        "\n",
        "\n",
        "X, y = load_diabetes(return_X_y=True)\n",
        "\n",
        "X_train, X_test, y_train, y_test = train_test_split(X, y, test_size=0.3, random_state=42)\n",
        "\n",
        "n_estimators_list = [1, 5, 10, 50, 100, 200]\n",
        "print(\"Number of Estimators | MSE\")\n",
        "print(\"---------------------|------------\")\n",
        "\n",
        "for n in n_estimators_list:\n",
        "    model = BaggingRegressor(\n",
        "        estimator=DecisionTreeRegressor(),\n",
        "        n_estimators=n,\n",
        "        random_state=42\n",
        "    )\n",
        "    model.fit(X_train, y_train)\n",
        "    y_pred = model.predict(X_test)\n",
        "    mse = mean_squared_error(y_test, y_pred)\n",
        "    print(f\"{n:<21} | {mse:.4f}\")"
      ],
      "metadata": {
        "colab": {
          "base_uri": "https://localhost:8080/"
        },
        "id": "3N4K6gdvDgeI",
        "outputId": "9c641b04-04f2-4446-926e-27d4d5bb13a9"
      },
      "execution_count": 28,
      "outputs": [
        {
          "output_type": "stream",
          "name": "stdout",
          "text": [
            "Number of Estimators | MSE\n",
            "---------------------|------------\n",
            "1                     | 5545.9850\n",
            "5                     | 3366.7203\n",
            "10                    | 3237.5265\n",
            "50                    | 2987.0074\n",
            "100                   | 2908.8062\n",
            "200                   | 2854.8817\n"
          ]
        }
      ]
    },
    {
      "cell_type": "markdown",
      "source": [
        "33. Train a Random Forest Classifier and analyze misclassified samples."
      ],
      "metadata": {
        "id": "o0gcqNDlEYV2"
      }
    },
    {
      "cell_type": "code",
      "source": [
        "\n",
        "from sklearn.ensemble import RandomForestClassifier\n",
        "from sklearn.datasets import load_breast_cancer\n",
        "from sklearn.model_selection import train_test_split\n",
        "from sklearn.metrics import classification_report\n",
        "import pandas as pd\n",
        "\n",
        "data = load_breast_cancer()\n",
        "X, y = data.data, data.target\n",
        "feature_names = data.feature_names\n",
        "\n",
        "X_train, X_test, y_train, y_test = train_test_split(X, y, test_size=0.3, random_state=42)\n",
        "\n",
        "model = RandomForestClassifier(n_estimators=100, random_state=42)\n",
        "model.fit(X_train, y_train)\n",
        "\n",
        "y_pred = model.predict(X_test)\n",
        "\n",
        "misclassified_indices = (y_pred != y_test)\n",
        "misclassified_samples = X_test[misclassified_indices]\n",
        "true_labels = y_test[misclassified_indices]\n",
        "predicted_labels = y_pred[misclassified_indices]\n",
        "\n",
        "df_misclassified = pd.DataFrame(misclassified_samples, columns=feature_names)\n",
        "df_misclassified['True Label'] = true_labels\n",
        "df_misclassified['Predicted Label'] = predicted_labels\n",
        "\n",
        "print(\"Classification Report:\")\n",
        "print(classification_report(y_test, y_pred))\n",
        "\n",
        "print(\"\\nMisclassified Samples:\")\n",
        "print(df_misclassified.head())\n"
      ],
      "metadata": {
        "colab": {
          "base_uri": "https://localhost:8080/"
        },
        "id": "StvV8MR0EHng",
        "outputId": "9b71ed82-7cb5-44a3-e253-005bd75fc3d4"
      },
      "execution_count": 30,
      "outputs": [
        {
          "output_type": "stream",
          "name": "stdout",
          "text": [
            "Classification Report:\n",
            "              precision    recall  f1-score   support\n",
            "\n",
            "           0       0.98      0.94      0.96        63\n",
            "           1       0.96      0.99      0.98       108\n",
            "\n",
            "    accuracy                           0.97       171\n",
            "   macro avg       0.97      0.96      0.97       171\n",
            "weighted avg       0.97      0.97      0.97       171\n",
            "\n",
            "\n",
            "Misclassified Samples:\n",
            "   mean radius  mean texture  mean perimeter  mean area  mean smoothness  \\\n",
            "0        13.34         15.86           86.49      520.0          0.10780   \n",
            "1        13.80         15.79           90.43      584.1          0.10070   \n",
            "2        13.96         17.05           91.43      602.4          0.10960   \n",
            "3        14.48         21.46           94.25      648.2          0.09444   \n",
            "4        15.13         29.81           96.71      719.5          0.08320   \n",
            "\n",
            "   mean compactness  mean concavity  mean concave points  mean symmetry  \\\n",
            "0           0.15350         0.11690              0.06987         0.1942   \n",
            "1           0.12800         0.07789              0.05069         0.1662   \n",
            "2           0.12790         0.09789              0.05246         0.1908   \n",
            "3           0.09947         0.12040              0.04938         0.2075   \n",
            "4           0.04605         0.04686              0.02739         0.1852   \n",
            "\n",
            "   mean fractal dimension  ...  worst perimeter  worst area  worst smoothness  \\\n",
            "0                 0.06902  ...            96.66       614.9            0.1536   \n",
            "1                 0.06566  ...           110.30       812.4            0.1411   \n",
            "2                 0.06130  ...           108.10       826.0            0.1512   \n",
            "3                 0.05636  ...           108.40       808.9            0.1306   \n",
            "4                 0.05294  ...           110.10       931.4            0.1148   \n",
            "\n",
            "   worst compactness  worst concavity  worst concave points  worst symmetry  \\\n",
            "0            0.47910           0.4858               0.17080          0.3527   \n",
            "1            0.35420           0.2779               0.13830          0.2589   \n",
            "2            0.32620           0.3209               0.13740          0.3068   \n",
            "3            0.19760           0.3349               0.12250          0.3020   \n",
            "4            0.09866           0.1547               0.06575          0.3233   \n",
            "\n",
            "   worst fractal dimension  True Label  Predicted Label  \n",
            "0                  0.10160           1                0  \n",
            "1                  0.10300           0                1  \n",
            "2                  0.07957           0                1  \n",
            "3                  0.06846           0                1  \n",
            "4                  0.06165           0                1  \n",
            "\n",
            "[5 rows x 32 columns]\n"
          ]
        }
      ]
    },
    {
      "cell_type": "markdown",
      "source": [
        "34. Train a Bagging Classifier and compare its performance with a single Decision Tree Classifier."
      ],
      "metadata": {
        "id": "8j09x0RHE4T5"
      }
    },
    {
      "cell_type": "code",
      "source": [
        "\n",
        "from sklearn.ensemble import BaggingClassifier\n",
        "from sklearn.tree import DecisionTreeClassifier\n",
        "from sklearn.datasets import load_breast_cancer\n",
        "from sklearn.model_selection import train_test_split\n",
        "from sklearn.metrics import accuracy_score\n",
        "\n",
        "data = load_breast_cancer()\n",
        "X, y = data.data, data.target\n",
        "\n",
        "X_train, X_test, y_train, y_test = train_test_split(X, y, test_size=0.3, random_state=42)\n",
        "\n",
        "dt_model = DecisionTreeClassifier(random_state=42)\n",
        "dt_model.fit(X_train, y_train)\n",
        "dt_preds = dt_model.predict(X_test)\n",
        "dt_acc = accuracy_score(y_test, dt_preds)\n",
        "\n",
        "bagging_model = BaggingClassifier(\n",
        "    estimator=DecisionTreeClassifier(),\n",
        "    n_estimators=100,\n",
        "    random_state=42\n",
        ")\n",
        "bagging_model.fit(X_train, y_train)\n",
        "bagging_preds = bagging_model.predict(X_test)\n",
        "bagging_acc = accuracy_score(y_test, bagging_preds)\n",
        "\n",
        "\n",
        "print(\"Decision Tree Accuracy:\", dt_acc)\n",
        "print(\"Bagging Classifier Accuracy:\", bagging_acc)"
      ],
      "metadata": {
        "colab": {
          "base_uri": "https://localhost:8080/"
        },
        "id": "SHm-9BW1EqWw",
        "outputId": "6ff8ff1a-fe01-4234-c076-18ea2e7e1f07"
      },
      "execution_count": 33,
      "outputs": [
        {
          "output_type": "stream",
          "name": "stdout",
          "text": [
            "Decision Tree Accuracy: 0.9415204678362573\n",
            "Bagging Classifier Accuracy: 0.9590643274853801\n"
          ]
        }
      ]
    },
    {
      "cell_type": "markdown",
      "source": [
        "35. Train a Random Forest Classifier and visualize the confusion matrix."
      ],
      "metadata": {
        "id": "PjUX_mskFcHZ"
      }
    },
    {
      "cell_type": "code",
      "source": [
        "\n",
        "from sklearn.ensemble import RandomForestClassifier\n",
        "from sklearn.datasets import load_breast_cancer\n",
        "from sklearn.model_selection import train_test_split\n",
        "from sklearn.metrics import confusion_matrix, ConfusionMatrixDisplay\n",
        "import matplotlib.pyplot as plt\n",
        "\n",
        "data = load_breast_cancer()\n",
        "X, y = data.data, data.target\n",
        "\n",
        "X_train, X_test, y_train, y_test = train_test_split(X, y, test_size=0.3, random_state=42)\n",
        "\n",
        "model = RandomForestClassifier(n_estimators=100, random_state=42)\n",
        "model.fit(X_train, y_train)\n",
        "\n",
        "y_pred = model.predict(X_test)\n",
        "\n",
        "cm = confusion_matrix(y_test, y_pred)\n",
        "disp = ConfusionMatrixDisplay(confusion_matrix=cm, display_labels=data.target_names)\n",
        "\n",
        "disp.plot(cmap=plt.cm.Blues)\n",
        "plt.title(\"Confusion Matrix - Random Forest Classifier\")\n",
        "plt.show()\n"
      ],
      "metadata": {
        "colab": {
          "base_uri": "https://localhost:8080/",
          "height": 472
        },
        "id": "8WddZU0iFJGM",
        "outputId": "42c38f28-097a-40ac-d510-fdf22c15d3f2"
      },
      "execution_count": 35,
      "outputs": [
        {
          "output_type": "display_data",
          "data": {
            "text/plain": [
              "<Figure size 640x480 with 2 Axes>"
            ],
            "image/png": "[encoded data removed]"
          },
          "metadata": {}
        }
      ]
    },
    {
      "cell_type": "markdown",
      "source": [
        "36. Train a Stacking Classifier using Decision Trees, SVM, and Logistic Regression, and compare accuracy."
      ],
      "metadata": {
        "id": "kbK05M-8F19e"
      }
    },
    {
      "cell_type": "code",
      "source": [
        "\n",
        "from sklearn.ensemble import StackingClassifier\n",
        "from sklearn.tree import DecisionTreeClassifier\n",
        "from sklearn.svm import SVC\n",
        "from sklearn.linear_model import LogisticRegression\n",
        "from sklearn.datasets import load_breast_cancer\n",
        "from sklearn.model_selection import train_test_split\n",
        "from sklearn.metrics import accuracy_score\n",
        "\n",
        "data = load_breast_cancer()\n",
        "X, y = data.data, data.target\n",
        "\n",
        "\n",
        "X_train, X_test, y_train, y_test = train_test_split(X, y, test_size=0.3, random_state=42)\n",
        "\n",
        "base_learners = [\n",
        "    ('dt', DecisionTreeClassifier(random_state=42)),\n",
        "    ('svm', SVC(probability=True, random_state=42)),\n",
        "    ('lr', LogisticRegression(max_iter=1000, random_state=42))\n",
        "]\n",
        "\n",
        "stack_model = StackingClassifier(\n",
        "    estimators=base_learners,\n",
        "    final_estimator=LogisticRegression(),\n",
        "    cv=5\n",
        ")\n",
        "\n",
        "dt_model = base_learners[0][1].fit(X_train, y_train)\n",
        "svm_model = base_learners[1][1].fit(X_train, y_train)\n",
        "lr_model = base_learners[2][1].fit(X_train, y_train)\n",
        "stack_model.fit(X_train, y_train)\n",
        "\n",
        "dt_acc = accuracy_score(y_test, dt_model.predict(X_test))\n",
        "svm_acc = accuracy_score(y_test, svm_model.predict(X_test))\n",
        "lr_acc = accuracy_score(y_test, lr_model.predict(X_test))\n",
        "stack_acc = accuracy_score(y_test, stack_model.predict(X_test))\n",
        "\n",
        "print(\"Decision Tree Accuracy:\", dt_acc)\n",
        "print(\"SVM Accuracy:\", svm_acc)\n",
        "print(\"Logistic Regression Accuracy:\", lr_acc)\n",
        "print(\"Stacking Classifier Accuracy:\", stack_acc)\n"
      ],
      "metadata": {
        "colab": {
          "base_uri": "https://localhost:8080/"
        },
        "id": "BdLmy5QMFqq7",
        "outputId": "b9d20f74-21bd-4aeb-8ce7-342ba259adbe"
      },
      "execution_count": 37,
      "outputs": [
        {
          "output_type": "stream",
          "name": "stdout",
          "text": [
            "Decision Tree Accuracy: 0.9415204678362573\n",
            "SVM Accuracy: 0.935672514619883\n",
            "Logistic Regression Accuracy: 0.9707602339181286\n",
            "Stacking Classifier Accuracy: 0.9707602339181286\n"
          ]
        }
      ]
    },
    {
      "cell_type": "markdown",
      "source": [
        "37. Train a Random Forest Classifier and print the top 5 most important features."
      ],
      "metadata": {
        "id": "wWQ4wIV1Ghib"
      }
    },
    {
      "cell_type": "code",
      "source": [
        "\n",
        "from sklearn.ensemble import RandomForestClassifier\n",
        "from sklearn.datasets import load_breast_cancer\n",
        "from sklearn.model_selection import train_test_split\n",
        "import pandas as pd\n",
        "\n",
        "data = load_breast_cancer()\n",
        "X, y = data.data, data.target\n",
        "feature_names = data.feature_names\n",
        "\n",
        "\n",
        "X_train, X_test, y_train, y_test = train_test_split(X, y, test_size=0.3, random_state=42)\n",
        "\n",
        "model = RandomForestClassifier(n_estimators=100, random_state=42)\n",
        "model.fit(X_train, y_train)\n",
        "\n",
        "importances = model.feature_importances_\n",
        "feature_importance_df = pd.DataFrame({\n",
        "    'Feature': feature_names,\n",
        "    'Importance': importances\n",
        "}).sort_values(by='Importance', ascending=False)\n",
        "\n",
        "print(\"Top 5 Most Important Features:\")\n",
        "print(feature_importance_df.head(5))\n"
      ],
      "metadata": {
        "colab": {
          "base_uri": "https://localhost:8080/"
        },
        "id": "aZf1muUhGSU4",
        "outputId": "4147d796-6b2d-461f-8a08-c17ab58340bd"
      },
      "execution_count": 38,
      "outputs": [
        {
          "output_type": "stream",
          "name": "stdout",
          "text": [
            "Top 5 Most Important Features:\n",
            "                 Feature  Importance\n",
            "7    mean concave points    0.141934\n",
            "27  worst concave points    0.127136\n",
            "23            worst area    0.118217\n",
            "6         mean concavity    0.080557\n",
            "20          worst radius    0.077975\n"
          ]
        }
      ]
    },
    {
      "cell_type": "markdown",
      "source": [
        "38. Train a Bagging Classifier and evaluate performance using Precision, Recall, and F1-score."
      ],
      "metadata": {
        "id": "5Vnu-oFVHAyE"
      }
    },
    {
      "cell_type": "code",
      "source": [
        "\n",
        "from sklearn.ensemble import BaggingClassifier\n",
        "from sklearn.tree import DecisionTreeClassifier\n",
        "from sklearn.datasets import load_breast_cancer\n",
        "from sklearn.model_selection import train_test_split\n",
        "from sklearn.metrics import classification_report\n",
        "\n",
        "data = load_breast_cancer()\n",
        "X, y = data.data, data.target\n",
        "\n",
        "X_train, X_test, y_train, y_test = train_test_split(X, y, test_size=0.3, random_state=42)\n",
        "\n",
        "model = BaggingClassifier(\n",
        "    estimator=DecisionTreeClassifier(),\n",
        "    n_estimators=100,\n",
        "    random_state=42\n",
        ")\n",
        "model.fit(X_train, y_train)\n",
        "\n",
        "y_pred = model.predict(X_test)\n",
        "\n",
        "print(\"Classification Report:\")\n",
        "print(classification_report(y_test, y_pred, target_names=data.target_names))"
      ],
      "metadata": {
        "colab": {
          "base_uri": "https://localhost:8080/"
        },
        "id": "M0CVtQvMG3Fu",
        "outputId": "5619cd51-90a4-487c-86d7-a09d24a60c82"
      },
      "execution_count": 41,
      "outputs": [
        {
          "output_type": "stream",
          "name": "stdout",
          "text": [
            "Classification Report:\n",
            "              precision    recall  f1-score   support\n",
            "\n",
            "   malignant       0.95      0.94      0.94        63\n",
            "      benign       0.96      0.97      0.97       108\n",
            "\n",
            "    accuracy                           0.96       171\n",
            "   macro avg       0.96      0.95      0.96       171\n",
            "weighted avg       0.96      0.96      0.96       171\n",
            "\n"
          ]
        }
      ]
    },
    {
      "cell_type": "markdown",
      "source": [
        "39. Train a Random Forest Classifier and analyze the effect of max_depth on accuracy."
      ],
      "metadata": {
        "id": "i1w-jtxoHgyb"
      }
    },
    {
      "cell_type": "code",
      "source": [
        "\n",
        "import matplotlib.pyplot as plt\n",
        "from sklearn.ensemble import RandomForestClassifier\n",
        "from sklearn.datasets import load_breast_cancer\n",
        "from sklearn.model_selection import train_test_split\n",
        "from sklearn.metrics import accuracy_score\n",
        "\n",
        "data = load_breast_cancer()\n",
        "X, y = data.data, data.target\n",
        "\n",
        "X_train, X_test, y_train, y_test = train_test_split(X, y, test_size=0.3, random_state=42)\n",
        "\n",
        "depths = range(1, 21)\n",
        "accuracies = []\n",
        "\n",
        "for depth in depths:\n",
        "    model = RandomForestClassifier(n_estimators=100, max_depth=depth, random_state=42)\n",
        "    model.fit(X_train, y_train)\n",
        "    y_pred = model.predict(X_test)\n",
        "    acc = accuracy_score(y_test, y_pred)\n",
        "    accuracies.append(acc)\n",
        "\n",
        "plt.figure(figsize=(8, 5))\n",
        "plt.plot(depths, accuracies, marker='o', linestyle='-', color='teal')\n",
        "plt.title('Effect of max_depth on Random Forest Accuracy')\n",
        "plt.xlabel('max_depth')\n",
        "plt.ylabel('Accuracy')\n",
        "plt.xticks(depths)\n",
        "plt.grid(True)\n",
        "plt.show()\n"
      ],
      "metadata": {
        "colab": {
          "base_uri": "https://localhost:8080/",
          "height": 487
        },
        "id": "oCPKnW-2HRGY",
        "outputId": "ffc81984-f960-454f-dc6a-bdcde1fb1965"
      },
      "execution_count": 43,
      "outputs": [
        {
          "output_type": "display_data",
          "data": {
            "text/plain": [
              "<Figure size 800x500 with 1 Axes>"
            ],
            "image/png": "[encoded data removed]"
          },
          "metadata": {}
        }
      ]
    },
    {
      "cell_type": "markdown",
      "source": [
        "40. Train a Bagging Regressor using different base estimators (DecisionTree and KNeighbors) and compare\n",
        "performance."
      ],
      "metadata": {
        "id": "gF-4xjr0ID1U"
      }
    },
    {
      "cell_type": "code",
      "source": [
        "\n",
        "from sklearn.ensemble import BaggingRegressor\n",
        "from sklearn.tree import DecisionTreeRegressor\n",
        "from sklearn.neighbors import KNeighborsRegressor\n",
        "from sklearn.datasets import fetch_california_housing\n",
        "from sklearn.model_selection import train_test_split\n",
        "from sklearn.metrics import mean_squared_error\n",
        "import numpy as np\n",
        "\n",
        "data = fetch_california_housing()\n",
        "X, y = data.data, data.target\n",
        "\n",
        "X_train, X_test, y_train, y_test = train_test_split(X, y, test_size=0.3, random_state=42)\n",
        "\n",
        "bag_dt = BaggingRegressor(\n",
        "    estimator=DecisionTreeRegressor(),\n",
        "    n_estimators=100,\n",
        "    random_state=42\n",
        ")\n",
        "bag_dt.fit(X_train, y_train)\n",
        "y_pred_dt = bag_dt.predict(X_test)\n",
        "mse_dt = mean_squared_error(y_test, y_pred_dt)\n",
        "\n",
        "bag_knn = BaggingRegressor(\n",
        "    estimator=KNeighborsRegressor(),\n",
        "    n_estimators=100,\n",
        "    random_state=42\n",
        ")\n",
        "bag_knn.fit(X_train, y_train)\n",
        "y_pred_knn = bag_knn.predict(X_test)\n",
        "mse_knn = mean_squared_error(y_test, y_pred_knn)\n",
        "\n",
        "print(\"Bagging Regressor with Decision Tree - MSE:\", np.round(mse_dt, 4))\n",
        "print(\"Bagging Regressor with KNeighbors - MSE:\", np.round(mse_knn, 4))"
      ],
      "metadata": {
        "colab": {
          "base_uri": "https://localhost:8080/"
        },
        "id": "WKYPPrv7H2PS",
        "outputId": "3db7f862-7078-47bd-9a45-759a501138b3"
      },
      "execution_count": 46,
      "outputs": [
        {
          "output_type": "stream",
          "name": "stdout",
          "text": [
            "Bagging Regressor with Decision Tree - MSE: 0.2568\n",
            "Bagging Regressor with KNeighbors - MSE: 1.0998\n"
          ]
        }
      ]
    },
    {
      "cell_type": "markdown",
      "source": [
        "41. Train a Random Forest Classifier and evaluate its performance using ROC-AUC Score."
      ],
      "metadata": {
        "id": "400bvvBWIzVB"
      }
    },
    {
      "cell_type": "code",
      "source": [
        "\n",
        "from sklearn.ensemble import RandomForestClassifier\n",
        "from sklearn.datasets import load_breast_cancer\n",
        "from sklearn.model_selection import train_test_split\n",
        "from sklearn.metrics import roc_auc_score, roc_curve\n",
        "import matplotlib.pyplot as plt\n",
        "\n",
        "data = load_breast_cancer()\n",
        "X, y = data.data, data.target\n",
        "\n",
        "X_train, X_test, y_train, y_test = train_test_split(X, y, test_size=0.3, random_state=42)\n",
        "\n",
        "model = RandomForestClassifier(n_estimators=100, random_state=42)\n",
        "model.fit(X_train, y_train)\n",
        "\n",
        "y_proba = model.predict_proba(X_test)[:, 1]\n",
        "\n",
        "roc_auc = roc_auc_score(y_test, y_proba)\n",
        "print(\"ROC-AUC Score:\", round(roc_auc, 4))\n",
        "\n",
        "fpr, tpr, _ = roc_curve(y_test, y_proba)\n",
        "plt.figure(figsize=(6, 4))\n",
        "plt.plot(fpr, tpr, label=f'ROC Curve (AUC = {roc_auc:.2f})', color='darkorange')\n",
        "plt.plot([0, 1], [0, 1], 'k--', label='Chance')\n",
        "plt.xlabel('False Positive Rate')\n",
        "plt.ylabel('True Positive Rate')\n",
        "plt.title('Random Forest ROC Curve')\n",
        "plt.legend(loc='lower right')\n",
        "plt.grid(True)\n",
        "plt.show()\n"
      ],
      "metadata": {
        "colab": {
          "base_uri": "https://localhost:8080/",
          "height": 427
        },
        "id": "1RR2ZR6lIYwe",
        "outputId": "0df44101-c54a-4380-e49e-86c27417f227"
      },
      "execution_count": 48,
      "outputs": [
        {
          "output_type": "stream",
          "name": "stdout",
          "text": [
            "ROC-AUC Score: 0.9968\n"
          ]
        },
        {
          "output_type": "display_data",
          "data": {
            "text/plain": [
              "<Figure size 600x400 with 1 Axes>"
            ],
            "image/png": "[encoded data removed]"
          },
          "metadata": {}
        }
      ]
    },
    {
      "cell_type": "markdown",
      "source": [
        "42. Train a Bagging Classifier and evaluate its performance using cross-validatio."
      ],
      "metadata": {
        "id": "EozscGHOJRjz"
      }
    },
    {
      "cell_type": "code",
      "source": [
        "\n",
        "from sklearn.ensemble import BaggingClassifier\n",
        "from sklearn.tree import DecisionTreeClassifier\n",
        "from sklearn.datasets import load_breast_cancer\n",
        "from sklearn.model_selection import cross_val_score\n",
        "import numpy as np\n",
        "\n",
        "data = load_breast_cancer()\n",
        "X, y = data.data, data.target\n",
        "\n",
        "model = BaggingClassifier(\n",
        "    estimator=DecisionTreeClassifier(),\n",
        "    n_estimators=100,\n",
        "    random_state=42\n",
        ")\n",
        "\n",
        "scores = cross_val_score(model, X, y, cv=5, scoring='accuracy')\n",
        "\n",
        "print(\"Cross-Validation Accuracy Scores:\", np.round(scores, 4))\n",
        "print(\"Mean Accuracy:\", round(scores.mean(), 4))\n",
        "print(\"Standard Deviation:\", round(scores.std(), 4))"
      ],
      "metadata": {
        "colab": {
          "base_uri": "https://localhost:8080/"
        },
        "id": "qobe_OzPJDdt",
        "outputId": "3df4d7be-58a0-4162-8df3-2843163e7945"
      },
      "execution_count": 51,
      "outputs": [
        {
          "output_type": "stream",
          "name": "stdout",
          "text": [
            "Cross-Validation Accuracy Scores: [0.8947 0.9386 0.9912 0.9649 1.    ]\n",
            "Mean Accuracy: 0.9579\n",
            "Standard Deviation: 0.0382\n"
          ]
        }
      ]
    },
    {
      "cell_type": "markdown",
      "source": [
        "43. Train a Random Forest Classifier and plot the Precision-Recall curv."
      ],
      "metadata": {
        "id": "HlXjHNUyJ1jo"
      }
    },
    {
      "cell_type": "code",
      "source": [
        "\n",
        "from sklearn.ensemble import RandomForestClassifier\n",
        "from sklearn.datasets import load_breast_cancer\n",
        "from sklearn.model_selection import train_test_split\n",
        "from sklearn.metrics import precision_recall_curve, average_precision_score, PrecisionRecallDisplay\n",
        "import matplotlib.pyplot as plt\n",
        "\n",
        "data = load_breast_cancer()\n",
        "X, y = data.data, data.target\n",
        "\n",
        "X_train, X_test, y_train, y_test = train_test_split(X, y, test_size=0.3, random_state=42)\n",
        "\n",
        "model = RandomForestClassifier(n_estimators=100, random_state=42)\n",
        "model.fit(X_train, y_train)\n",
        "\n",
        "y_proba = model.predict_proba(X_test)[:, 1]\n",
        "\n",
        "precision, recall, _ = precision_recall_curve(y_test, y_proba)\n",
        "avg_precision = average_precision_score(y_test, y_proba)\n",
        "\n",
        "disp = PrecisionRecallDisplay(precision=precision, recall=recall, average_precision=avg_precision)\n",
        "disp.plot()\n",
        "plt.title(f'Precision-Recall Curve (AP = {avg_precision:.2f})')\n",
        "plt.grid(True)\n",
        "plt.show()\n"
      ],
      "metadata": {
        "colab": {
          "base_uri": "https://localhost:8080/",
          "height": 472
        },
        "id": "ZG123JgEJi8p",
        "outputId": "18f1d197-acb2-496d-808c-60c491fba465"
      },
      "execution_count": 53,
      "outputs": [
        {
          "output_type": "display_data",
          "data": {
            "text/plain": [
              "<Figure size 640x480 with 1 Axes>"
            ],
            "image/png": "[encoded data removed]"
          },
          "metadata": {}
        }
      ]
    },
    {
      "cell_type": "markdown",
      "source": [
        "44. Train a Stacking Classifier with Random Forest and Logistic Regression and compare accuracy."
      ],
      "metadata": {
        "id": "9nNEkVX3KZtF"
      }
    },
    {
      "cell_type": "code",
      "source": [
        "\n",
        "from sklearn.ensemble import StackingClassifier, RandomForestClassifier\n",
        "from sklearn.linear_model import LogisticRegression\n",
        "from sklearn.model_selection import train_test_split\n",
        "from sklearn.datasets import load_breast_cancer\n",
        "from sklearn.metrics import accuracy_score\n",
        "from sklearn.preprocessing import StandardScaler\n",
        "from sklearn.pipeline import make_pipeline\n",
        "\n",
        "data = load_breast_cancer()\n",
        "X, y = data.data, data.target\n",
        "\n",
        "X_train, X_test, y_train, y_test = train_test_split(X, y, test_size=0.3, random_state=42)\n",
        "\n",
        "base_estimators = [\n",
        "    ('rf', RandomForestClassifier(n_estimators=100, random_state=42)),\n",
        "    ('lr', make_pipeline(StandardScaler(), LogisticRegression(max_iter=1000, random_state=42)))\n",
        "]\n",
        "\n",
        "stack_model = StackingClassifier(\n",
        "    estimators=base_estimators,\n",
        "    final_estimator=LogisticRegression(random_state=42),\n",
        "    cv=5\n",
        ")\n",
        "\n",
        "stack_model.fit(X_train, y_train)\n",
        "\n",
        "y_pred_stack = stack_model.predict(X_test)\n",
        "stack_acc = accuracy_score(y_test, y_pred_stack)\n",
        "\n",
        "\n",
        "rf_model = RandomForestClassifier(n_estimators=100, random_state=42)\n",
        "rf_model.fit(X_train, y_train)\n",
        "rf_acc = accuracy_score(y_test, rf_model.predict(X_test))\n",
        "\n",
        "lr_model = make_pipeline(StandardScaler(), LogisticRegression(max_iter=1000, random_state=42))\n",
        "lr_model.fit(X_train, y_train)\n",
        "lr_acc = accuracy_score(y_test, lr_model.predict(X_test))\n",
        "\n",
        "print(\"Logistic Regression Accuracy:\", round(lr_acc, 4))\n",
        "print(\"Random Forest Accuracy:\", round(rf_acc, 4))\n",
        "print(\"Stacking Classifier Accuracy:\", round(stack_acc, 4))\n"
      ],
      "metadata": {
        "colab": {
          "base_uri": "https://localhost:8080/"
        },
        "id": "56Bs2YuUKQfI",
        "outputId": "e3ba5037-2403-4da5-b26a-40b460361924"
      },
      "execution_count": 55,
      "outputs": [
        {
          "output_type": "stream",
          "name": "stdout",
          "text": [
            "Logistic Regression Accuracy: 0.9825\n",
            "Random Forest Accuracy: 0.9708\n",
            "Stacking Classifier Accuracy: 0.9766\n"
          ]
        }
      ]
    },
    {
      "cell_type": "markdown",
      "source": [
        "45. Train a Bagging Regressor with different levels of bootstrap samples and compare performance."
      ],
      "metadata": {
        "id": "DCoKK-VDLBEs"
      }
    },
    {
      "cell_type": "code",
      "source": [
        "\n",
        "from sklearn.ensemble import BaggingRegressor\n",
        "from sklearn.tree import DecisionTreeRegressor\n",
        "from sklearn.datasets import fetch_california_housing\n",
        "from sklearn.model_selection import train_test_split\n",
        "from sklearn.metrics import mean_squared_error\n",
        "import numpy as np\n",
        "\n",
        "data = fetch_california_housing()\n",
        "X, y = data.data, data.target\n",
        "\n",
        "X_train, X_test, y_train, y_test = train_test_split(X, y, test_size=0.3, random_state=42)\n",
        "\n",
        "sample_sizes = [0.5, 0.7, 1.0]\n",
        "results = {}\n",
        "\n",
        "\n",
        "for size in sample_sizes:\n",
        "    model = BaggingRegressor(\n",
        "        estimator=DecisionTreeRegressor(),\n",
        "        n_estimators=100,\n",
        "        max_samples=size,\n",
        "        random_state=42\n",
        "    )\n",
        "    model.fit(X_train, y_train)\n",
        "    y_pred = model.predict(X_test)\n",
        "    mse = mean_squared_error(y_test, y_pred)\n",
        "    results[size] = mse\n",
        "\n",
        "for size, mse in results.items():\n",
        "    print(f\"max_samples = {size} -> MSE: {round(mse, 4)}\")"
      ],
      "metadata": {
        "colab": {
          "base_uri": "https://localhost:8080/"
        },
        "id": "x5k5d8_jKyLo",
        "outputId": "2db0f66e-a141-4390-e89d-31e1dd3bdd02"
      },
      "execution_count": 58,
      "outputs": [
        {
          "output_type": "stream",
          "name": "stdout",
          "text": [
            "max_samples = 0.5 -> MSE: 0.2626\n",
            "max_samples = 0.7 -> MSE: 0.2585\n",
            "max_samples = 1.0 -> MSE: 0.2568\n"
          ]
        }
      ]
    }
  ]
}